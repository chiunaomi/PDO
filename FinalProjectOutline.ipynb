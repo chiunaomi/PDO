{
 "cells": [
  {
   "cell_type": "markdown",
   "metadata": {},
   "source": [
    "# Solar House Optimization\n",
    "PDO Spring 2021 \\\n",
    "Naomi Chiu\n"
   ]
  },
  {
   "cell_type": "markdown",
   "metadata": {},
   "source": [
    "## Executive Summary\n",
    "- Looking to optimize solar house designs for building a greenhouse around a house focusing on the effect of surface area:volume ratios and type of material used for construction\n",
    "- Modeling using random distributions based off of collected weather data (solar radiation, air temperature and wind speeds)\n",
    "- Optimization method: \n",
    "- Conclusions: best area:volume ratio is ___ for these conditions, this material is best for these conditions"
   ]
  },
  {
   "cell_type": "markdown",
   "metadata": {},
   "source": [
    "## Background\n",
    "\n",
    "- Looking to optimize the design of building a greenhouse around a house\n",
    "    - This is a type of solar home that helps thermoregulate using the properties of a greenhouse (mostly during the winter). This can help cut down energy costs associated with heating a house during the winter for more sustainable living. \n",
    "- Concept is based on one such house in Stockholm: https://www.youtube.com/watch?v=30ghnDOFbNQ\n",
    "- Stakeholders: People interested in building such a structure around their houses, results can help them understand what to consider when choosing their designs and how to tune their designs for desired performance.\n",
    "- Needs: Stakeholders would be concerned about the performance of the greenhouse (why would they build one if it doesn't work?) as well as the associated costs."
   ]
  },
  {
   "cell_type": "markdown",
   "metadata": {},
   "source": [
    "## Formulation\n",
    "\n",
    "#### Greenhouses\n",
    "- All greenhouses have flat roofs and are some type of rectangular prism\n",
    "- Will need to generate sample dimensions to have numbers for volume and surface area. Findings will be reported wrt the ratio between volume and surface area to generalize the results.\n",
    "\n",
    "#### Data Collection\n",
    "https://www.ncdc.noaa.gov/cdo-web/confirmation\n",
    "\n",
    "1. Solar heat flux and temperature are dependent/linked for daytime hours\n",
    "    - will have to look at data to see if there is a strong correlation to calculate one from the other\n",
    "    - distributions will be fit to data for 2 categories and build a distribution for $\\dot{q}_{rad}$ and $T_{out}$\n",
    "        - Summer Day\n",
    "        - Winter Day\n",
    "2. There is no solar heat flux at night\n",
    "    - collect temperature data for 2 categories and build a distribution for $T_{out}$\n",
    "        - Summer Night\n",
    "        - Winter Night\n",
    "3. Wind speed is independent\n",
    "    - collect wind speed data for 4 categories a build a distribution for the related h (convective heat transfer coefficient)\n",
    "        - Summer Day\n",
    "        - Summer Night\n",
    "        - Winter Day\n",
    "        - Winter Night\n",
    "4. Material properties\n",
    "    - collect data on conductive heat transfer coefficients, specific heat, and density of materials and build distributions\n",
    "    - Materials: (possibilities, will only look into ~3)\n",
    "        - Glass (single walled)\n",
    "        - Glass (double walled)\n",
    "        - Polycarbonate\n",
    "        - Acrylic\n",
    "        - Plywood\n",
    "        - Concrete\n",
    "        - Polystyrene\n",
    "        \n",
    "https://weatherspark.com/y/26197/Average-Weather-in-Boston-Massachusetts-United-States-Year-Round#:~:text=In%20Boston%2C%20the%20summers%20are,or%20above%2091%C2%B0F\n",
    "- Solar Radiation (Normal Distributions)\n",
    "    - Summer Day: range = 4.5-8.5 kWh, mean = 6.8 kWh, SD = 1 kWh\n",
    "    - Winter Day: range = 0.5-2.5 kWh, mean = 1.6 kWh, SD = 0.5 kWh\n",
    "- Temperature (Normal Distribution)\n",
    "    - Summer Day: range = 70-90 degrees F, mean = 82 degrees F, SD = 5 degrees F\n",
    "    - Summer Night: range = 60-70 degrees F, mean = 67 degrees F, SD = 3 degrees F\n",
    "    - Winter Day: range = 30-50 degrees F, mean = 36 degrees F, SD = 5 degrees F\n",
    "    - Winter Night: range = 10-35 degrees F, mean = 23 degrees F, SD = 5 degrees F\n",
    "- Wind Speed (Normal Distribution)\n",
    "    - Summer: range = 3-7 mph, mean = 4.8 mph, SD = 1.25 mph\n",
    "    - Winter: range = 4-14 mph, mean = 9 mph, SD = 2.5 mph\n",
    "    \n",
    "##### California\n",
    "https://weatherspark.com/y/482/Average-Weather-in-Santa-Cruz-California-United-States-Year-Round\n",
    "- Solar Radiation (Normal Distributions)\n",
    "    - Summer Day: range = 7.5-9 kWh\n",
    "    - Winter Day: range = 1-3 kWh\n",
    "- Temperature (Normal Distribution)\n",
    "    - Summer Day: range = 65-75 degrees F\n",
    "    - Summer Night: range = 55-60 degrees F\n",
    "    - Winter Day: range = 55-65 degrees F\n",
    "    - Winter Night: range = 40-55 degrees F\n",
    "\n",
    "#### Calculations\n",
    "1. Holding wall material and thickness constant (try thick/thin, insulative/conductive combinations to see if they affect results), look at the relationship between surface area to volume.\n",
    "    - Surface area affects heat flux which affects how much energy enters the greenhouse\n",
    "    - Volume affects the thermal mass which affects how drastically the temperature inside the greenhouse changes\n",
    "        - Question: Should I model with just air or have an assumptions based house?\n",
    "        - Answer: Probably should have a house since air's specific heat is too low\n",
    "    1. Calculate the daytime temperatures for summer and winter and the nighttime temperatures for summer and winter\n",
    "        - $ \\frac{dU}{dt} = \\dot{q}_{rad}*A_{rad} - \\frac{T_{in}-T_{out}}{\\frac{L}{kA_{wall}}+\\frac{1}{hA_{wall}}} $ \n",
    "            - Note: $A_{rad}$ will be approximated as 1/4 of SA for simplicity's sake (actual builds can be rotated to adjust)\n",
    "            - Note: $A_{wall}$ will be assumed to be all 5 of the greenhouse's walls (no 6th wall, just the ground, heat lost to ground is ignored)\n",
    "        - $ \\Delta T = \\frac{dU*t}{v*d*C_v}$\n",
    "            - Note: $t$ will be the length of day/night depending on the time of the year\n",
    "    2. Optimize to min $\\Delta T$ (assumes that the internal started at the ambient temperature, want minimal deviations from set internal temperature)\n",
    "    \n",
    "2. Repeat process holding surface area and volume ratio constant, vary wall thickness for different materials.\n"
   ]
  },
  {
   "cell_type": "markdown",
   "metadata": {},
   "source": [
    "## Results\n",
    "\n",
    "- Ideal surface area:volume ratio (enough surface area for radiation in, enough thermal mass within to reduce temperature swings)\n",
    "- Best material: ___ for these reasons"
   ]
  },
  {
   "cell_type": "markdown",
   "metadata": {},
   "source": [
    "## Conclusion\n",
    "- Reasons/conditions where my results are helpful/accurate\n",
    "- How other configurations may be better fitted (ie different climates with more/less sun/wind or different temperature ranges)\n",
    "- These results may be location dependent, I will draw these conclusions after I have results"
   ]
  }
 ],
 "metadata": {
  "kernelspec": {
   "display_name": "Python 3",
   "language": "python",
   "name": "python3"
  },
  "language_info": {
   "codemirror_mode": {
    "name": "ipython",
    "version": 3
   },
   "file_extension": ".py",
   "mimetype": "text/x-python",
   "name": "python",
   "nbconvert_exporter": "python",
   "pygments_lexer": "ipython3",
   "version": "3.8.5"
  }
 },
 "nbformat": 4,
 "nbformat_minor": 4
}
